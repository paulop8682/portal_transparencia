{
 "cells": [
  {
   "cell_type": "code",
   "execution_count": 1,
   "metadata": {},
   "outputs": [
    {
     "ename": "KeyboardInterrupt",
     "evalue": "",
     "output_type": "error",
     "traceback": [
      "\u001b[0;31m---------------------------------------------------------------------------\u001b[0m",
      "\u001b[0;31mKeyboardInterrupt\u001b[0m                         Traceback (most recent call last)",
      "Cell \u001b[0;32mIn[1], line 67\u001b[0m\n\u001b[1;32m     64\u001b[0m driver\u001b[38;5;241m.\u001b[39mexecute_script(\u001b[38;5;124m\"\u001b[39m\u001b[38;5;124marguments[0].click();\u001b[39m\u001b[38;5;124m\"\u001b[39m, botton)\n\u001b[1;32m     66\u001b[0m \u001b[38;5;66;03m#Espera a informacoes ficarem visiveis\u001b[39;00m\n\u001b[0;32m---> 67\u001b[0m \u001b[43mwait\u001b[49m\u001b[38;5;241;43m.\u001b[39;49m\u001b[43muntil\u001b[49m\u001b[43m(\u001b[49m\u001b[43mEC\u001b[49m\u001b[38;5;241;43m.\u001b[39;49m\u001b[43mvisibility_of_element_located\u001b[49m\u001b[43m(\u001b[49m\u001b[43m(\u001b[49m\u001b[43mBy\u001b[49m\u001b[38;5;241;43m.\u001b[39;49m\u001b[43mXPATH\u001b[49m\u001b[43m,\u001b[49m\u001b[43m \u001b[49m\u001b[38;5;124;43mf\u001b[39;49m\u001b[38;5;124;43m'\u001b[39;49m\u001b[38;5;124;43m//*[@id=\u001b[39;49m\u001b[38;5;124;43m\"\u001b[39;49m\u001b[38;5;124;43mctl00_containerCorpo_grdData_dxdt\u001b[39;49m\u001b[38;5;132;43;01m{\u001b[39;49;00m\u001b[43mcount_botton\u001b[49m\u001b[38;5;132;43;01m}\u001b[39;49;00m\u001b[38;5;124;43m_ctl00_DXDataRow\u001b[39;49m\u001b[38;5;132;43;01m{\u001b[39;49;00m\u001b[38;5;241;43m0\u001b[39;49m\u001b[38;5;132;43;01m}\u001b[39;49;00m\u001b[38;5;124;43m\"\u001b[39;49m\u001b[38;5;124;43m]/td[3]\u001b[39;49m\u001b[38;5;124;43m'\u001b[39;49m\u001b[43m)\u001b[49m\u001b[43m)\u001b[49m\u001b[43m)\u001b[49m\n\u001b[1;32m     69\u001b[0m \u001b[38;5;66;03m#quantidade de paginas por servico\u001b[39;00m\n\u001b[1;32m     70\u001b[0m time\u001b[38;5;241m.\u001b[39msleep(\u001b[38;5;241m1\u001b[39m)\n",
      "File \u001b[0;32m~/Documents/python_portal_transparencia/portal_tranparencia/lib/python3.10/site-packages/selenium/webdriver/support/wait.py:102\u001b[0m, in \u001b[0;36mWebDriverWait.until\u001b[0;34m(self, method, message)\u001b[0m\n\u001b[1;32m    100\u001b[0m     screen \u001b[38;5;241m=\u001b[39m \u001b[38;5;28mgetattr\u001b[39m(exc, \u001b[38;5;124m\"\u001b[39m\u001b[38;5;124mscreen\u001b[39m\u001b[38;5;124m\"\u001b[39m, \u001b[38;5;28;01mNone\u001b[39;00m)\n\u001b[1;32m    101\u001b[0m     stacktrace \u001b[38;5;241m=\u001b[39m \u001b[38;5;28mgetattr\u001b[39m(exc, \u001b[38;5;124m\"\u001b[39m\u001b[38;5;124mstacktrace\u001b[39m\u001b[38;5;124m\"\u001b[39m, \u001b[38;5;28;01mNone\u001b[39;00m)\n\u001b[0;32m--> 102\u001b[0m \u001b[43mtime\u001b[49m\u001b[38;5;241;43m.\u001b[39;49m\u001b[43msleep\u001b[49m\u001b[43m(\u001b[49m\u001b[38;5;28;43mself\u001b[39;49m\u001b[38;5;241;43m.\u001b[39;49m\u001b[43m_poll\u001b[49m\u001b[43m)\u001b[49m\n\u001b[1;32m    103\u001b[0m \u001b[38;5;28;01mif\u001b[39;00m time\u001b[38;5;241m.\u001b[39mmonotonic() \u001b[38;5;241m>\u001b[39m end_time:\n\u001b[1;32m    104\u001b[0m     \u001b[38;5;28;01mbreak\u001b[39;00m\n",
      "\u001b[0;31mKeyboardInterrupt\u001b[0m: "
     ]
    }
   ],
   "source": [
    "from selenium import webdriver\n",
    "from selenium.webdriver.chrome.service import Service as ChromeService\n",
    "from webdriver_manager.chrome import ChromeDriverManager\n",
    "from selenium.webdriver.common.by import By\n",
    "from selenium.webdriver.common.keys import Keys\n",
    "from selenium.webdriver.support.ui import WebDriverWait\n",
    "from selenium.webdriver.common.action_chains import ActionChains\n",
    "from selenium.webdriver.support import expected_conditions as EC\n",
    "from selenium.webdriver.chrome.options import Options\n",
    "import time\n",
    "import sys\n",
    "import db_sql\n",
    "import sqlite3\n",
    "from selenium.common.exceptions import TimeoutException\n",
    "\n",
    "driver = webdriver.Chrome(service=ChromeService(ChromeDriverManager().install()))\n",
    "\n",
    "\n",
    "driver.get('https://itambacuri-mg.portaltp.com.br/consultas/pessoal/planocarreiras.aspx')\n",
    "driver.maximize_window()\n",
    "\n",
    "\n",
    "def eh_divisao_inteira(num1, num2):\n",
    "    if num2 == 0:\n",
    "        return False  # Evitar divisão por zero\n",
    "    return num1 % num2 == 0\n",
    "\n",
    "\n",
    "def clicar_elemento_generico(driver, data_args=None, role=None, timeout=10):\n",
    "    try:\n",
    "        # Cria a expressão XPath com base nos atributos fornecidos\n",
    "        xpath = \"//a\"\n",
    "        if data_args:\n",
    "            xpath += f\"[@data-args='{data_args}']\"\n",
    "        if role:\n",
    "            xpath += f\"[@role='{role}']\"\n",
    "        \n",
    "        # Espera até que o elemento esteja clicável e clica nele\n",
    "        elemento = WebDriverWait(driver, timeout).until(\n",
    "            EC.element_to_be_clickable((By.XPATH, xpath))\n",
    "        )\n",
    "        elemento.click()\n",
    "    \n",
    "    except Exception as e:\n",
    "        print(f\"Ocorreu um erro: {e}\")\n",
    "\n",
    "\n",
    "#abre as informacoes\n",
    "start_count = 0\n",
    "end_count = 10\n",
    "check_count = 0\n",
    "conn = sqlite3.connect('portal.db')\n",
    "cursor = conn.cursor()\n",
    "\n",
    "\n",
    "while True:\n",
    "    for count_botton in range(start_count,end_count):\n",
    "        check_count += 1\n",
    "        #Clica no botao\n",
    "        wait = WebDriverWait(driver, 10)\n",
    "        botton = wait.until(EC.element_to_be_clickable((By.XPATH, f'//*[@id=\"ctl00_containerCorpo_grdData_DXDataRow{count_botton}\"]/td[1]/button')))\n",
    "        actions = ActionChains(driver)\n",
    "        actions.move_to_element(botton).perform() \n",
    "        driver.execute_script(\"arguments[0].click();\", botton)\n",
    "\n",
    "        #Espera a informacoes ficarem visiveis\n",
    "        wait.until(EC.visibility_of_element_located((By.XPATH, f'//*[@id=\"ctl00_containerCorpo_grdData_dxdt{count_botton}_ctl00_DXDataRow{0}\"]/td[3]')))\n",
    "\n",
    "        #quantidade de paginas por servico\n",
    "        time.sleep(1)\n",
    "        qntd_pag_servico = int(driver.find_element(By.CSS_SELECTOR, \".dxbs-pager\").text.split(' ')[3])\n",
    "        if qntd_pag_servico != 24:\n",
    "\n",
    "            start_qntd_servidores = 0\n",
    "            qntd_servidores = len(driver.find_element(By.XPATH, f'//*[@id=\"ctl00_containerCorpo_grdData_dxdt{count_botton}_ctl00_DXMainTable\"]').text.split('\\n')) - 7\n",
    "\n",
    "            for pag in range(qntd_pag_servico):\n",
    "        \n",
    "                #Printa informacoes\n",
    "                try:\n",
    "                    for servidores in range(start_qntd_servidores,qntd_servidores):\n",
    "\n",
    "                        nome_pessoa = wait.until(EC.presence_of_element_located((By.XPATH, f'//*[@id=\"ctl00_containerCorpo_grdData_dxdt{count_botton}_ctl00_DXDataRow{servidores}\"]/td[3]')))\n",
    "\n",
    "                        dados = (nome_pessoa.text,\n",
    "                            driver.find_element(By.XPATH, f'//*[@id=\"ctl00_containerCorpo_grdData_DXDataRow{count_botton}\"]/td[2]').text,\n",
    "                            driver.find_element(By.XPATH, f'//*[@id=\"ctl00_containerCorpo_grdData_DXDataRow{count_botton}\"]/td[5]').text,\n",
    "                            driver.find_element(By.XPATH, f'//*[@id=\"ctl00_containerCorpo_grdData_dxdt{count_botton}_ctl00_DXDataRow{servidores}\"]/td[5]').text,\n",
    "                            driver.find_element(By.XPATH, f'//*[@id=\"ctl00_containerCorpo_grdData_dxdt{count_botton}_ctl00_DXDataRow{servidores}\"]/td[6]').text,\n",
    "                            driver.find_element(By.XPATH, f'//*[@id=\"ctl00_containerCorpo_grdData_dxdt{count_botton}_ctl00_DXDataRow{servidores}\"]/td[7]').text)\n",
    "                        \n",
    "                        cursor.execute('''\n",
    "                                        INSERT INTO DT_PORTAL_BRONZE (NOME, CARGO, SALARIO, TIPO_VINCULO, DATA_CONTRATACAO, DATA_DEMISSAO)\n",
    "                                        VALUES (?, ?, ?, ?, ?, ?)\n",
    "                                        ''', dados)\n",
    "                        conn.commit()\n",
    "                        \n",
    "                    qntd_servidores += 10\n",
    "                    start_qntd_servidores += 10\n",
    "                    \n",
    "                    clicar_elemento_generico(driver, data_args=\"PBN\", role=\"button\")\n",
    "                    \n",
    "                except Exception as e:\n",
    "                    \n",
    "                    erro_str = str(e)\n",
    "    \n",
    "                    if \"Message:\" in erro_str and \"Stacktrace:\" in erro_str:\n",
    "                        pass\n",
    "                    else:\n",
    "                        print(f'Erro na iteracao de servidores por servico {erro_str}')\n",
    "                        print(f'count block: {count_botton} \\n quantidade servidores: {servidores}')\n",
    "                        sys.exit(1)\n",
    "                    \n",
    "        else:\n",
    "            #conta a quantidade de servidores no cargo\n",
    "            qntd_servidores = len(driver.find_element(By.XPATH, f'//*[@id=\"ctl00_containerCorpo_grdData_dxdt{count_botton}_ctl00_DXMainTable\"]').text.split('\\n')) - 7\n",
    "\n",
    "            #Printa informacoes\n",
    "            for servidores in range(qntd_servidores):\n",
    "\n",
    "                nome_pessoa = wait.until(EC.presence_of_element_located((By.XPATH, f'//*[@id=\"ctl00_containerCorpo_grdData_dxdt{count_botton}_ctl00_DXDataRow{servidores}\"]/td[3]')))\n",
    "\n",
    "                dados = (nome_pessoa.text,\n",
    "                   driver.find_element(By.XPATH, f'//*[@id=\"ctl00_containerCorpo_grdData_DXDataRow{count_botton}\"]/td[2]').text,\n",
    "                   driver.find_element(By.XPATH, f'//*[@id=\"ctl00_containerCorpo_grdData_DXDataRow{count_botton}\"]/td[5]').text,\n",
    "                   driver.find_element(By.XPATH, f'//*[@id=\"ctl00_containerCorpo_grdData_dxdt{count_botton}_ctl00_DXDataRow0\"]/td[5]').text,\n",
    "                   driver.find_element(By.XPATH, f'//*[@id=\"ctl00_containerCorpo_grdData_dxdt{count_botton}_ctl00_DXDataRow0\"]/td[6]').text,\n",
    "                   driver.find_element(By.XPATH, f'//*[@id=\"ctl00_containerCorpo_grdData_dxdt{count_botton}_ctl00_DXDataRow0\"]/td[7]').text)\n",
    "\n",
    "                cursor.execute('''\n",
    "                                INSERT INTO DT_PORTAL_BRONZE (NOME, CARGO, SALARIO, TIPO_VINCULO, DATA_CONTRATACAO, DATA_DEMISSAO)\n",
    "                                VALUES (?, ?, ?, ?, ?, ?)\n",
    "                                ''', dados)\n",
    "                conn.commit()\n",
    "        \n",
    "\n",
    "        #mude de pagina\n",
    "        try:\n",
    "            if eh_divisao_inteira(check_count,10) is True:\n",
    "                start_count += 10\n",
    "                end_count += 10\n",
    "                clicar_elemento_generico(driver, data_args=\"PBN\", role=\"button\")\n",
    "        except:\n",
    "            if conn:\n",
    "                conn.close()\n",
    "            sys.exit(0)\n",
    "\n"
   ]
  },
  {
   "cell_type": "code",
   "execution_count": null,
   "metadata": {},
   "outputs": [],
   "source": []
  },
  {
   "cell_type": "code",
   "execution_count": 3,
   "metadata": {},
   "outputs": [
    {
     "data": {
      "text/plain": [
       "True"
      ]
     },
     "execution_count": 3,
     "metadata": {},
     "output_type": "execute_result"
    }
   ],
   "source": [
    "from selenium import webdriver\n",
    "from selenium.webdriver.chrome.service import Service as ChromeService\n",
    "from webdriver_manager.chrome import ChromeDriverManager\n",
    "from selenium.webdriver.common.by import By\n",
    "from selenium.webdriver.common.keys import Keys\n",
    "from selenium.webdriver.support.ui import WebDriverWait\n",
    "from selenium.webdriver.common.action_chains import ActionChains\n",
    "from selenium.webdriver.support import expected_conditions as EC\n",
    "from selenium.webdriver.chrome.options import Options\n",
    "import time\n",
    "import sys\n",
    "import db_sql\n",
    "import sqlite3\n",
    "from selenium.common.exceptions import TimeoutException\n",
    "\n",
    "# Configurações do Chrome no modo headless\n",
    "chrome_options = Options()\n",
    "chrome_options.add_argument(\"--headless\")\n",
    "chrome_options.add_argument(\"--no-sandbox\")\n",
    "chrome_options.add_argument(\"--disable-dev-shm-usage\")\n",
    "chrome_options.add_argument(\"--window-size=1920,1080\") \n",
    "\n",
    "# Inicializa o WebDriver com ChromeDriverManager e opções headless\n",
    "driver = webdriver.Chrome(\n",
    "    service=ChromeService(ChromeDriverManager().install()),\n",
    "    options=chrome_options\n",
    ")\n",
    "\n",
    "driver.maximize_window()\n",
    "driver.get('https://itambacuri-mg.portaltp.com.br/consultas/pessoal/planocarreiras.aspx')\n",
    "\n",
    "driver.save_screenshot('img_head.png')"
   ]
  },
  {
   "cell_type": "code",
   "execution_count": 4,
   "metadata": {},
   "outputs": [
    {
     "data": {
      "text/plain": [
       "24"
      ]
     },
     "execution_count": 4,
     "metadata": {},
     "output_type": "execute_result"
    }
   ],
   "source": [
    "int(driver.find_element(By.CSS_SELECTOR, \".dxbs-pager\").text.split(' ')[3])"
   ]
  },
  {
   "cell_type": "code",
   "execution_count": null,
   "metadata": {},
   "outputs": [],
   "source": []
  },
  {
   "cell_type": "code",
   "execution_count": 5,
   "metadata": {},
   "outputs": [
    {
     "name": "stdout",
     "output_type": "stream",
     "text": [
      "Texto extraído: 'Página 1 de 7 (61 itens)\n",
      "Anterior\n",
      "1\n",
      "2\n",
      "3\n",
      "4\n",
      "5\n",
      "6\n",
      "7\n",
      "Próximo'\n"
     ]
    }
   ],
   "source": [
    "text = driver.find_element(By.XPATH, '//*[@id=\"ctl00_containerCorpo_grdData_dxdt5_ctl00_DXPagerBottom\"]').text\n",
    "print(f\"Texto extraído: '{text}'\")"
   ]
  },
  {
   "cell_type": "code",
   "execution_count": 6,
   "metadata": {},
   "outputs": [
    {
     "data": {
      "text/plain": [
       "7"
      ]
     },
     "execution_count": 6,
     "metadata": {},
     "output_type": "execute_result"
    }
   ],
   "source": [
    "int(driver.find_element(By.XPATH, '//*[@id=\"ctl00_containerCorpo_grdData_dxdt5_ctl00_DXPagerBottom\"]').text.split(' ')[3])"
   ]
  },
  {
   "cell_type": "code",
   "execution_count": 3,
   "metadata": {},
   "outputs": [
    {
     "data": {
      "text/plain": [
       "24"
      ]
     },
     "execution_count": 3,
     "metadata": {},
     "output_type": "execute_result"
    }
   ],
   "source": [
    "int(driver.find_element(By.CSS_SELECTOR, \".dxbs-pager\").text.split(' ')[3])"
   ]
  }
 ],
 "metadata": {
  "kernelspec": {
   "display_name": "portal_tranparencia",
   "language": "python",
   "name": "python3"
  },
  "language_info": {
   "codemirror_mode": {
    "name": "ipython",
    "version": 3
   },
   "file_extension": ".py",
   "mimetype": "text/x-python",
   "name": "python",
   "nbconvert_exporter": "python",
   "pygments_lexer": "ipython3",
   "version": "3.10.14"
  }
 },
 "nbformat": 4,
 "nbformat_minor": 2
}
