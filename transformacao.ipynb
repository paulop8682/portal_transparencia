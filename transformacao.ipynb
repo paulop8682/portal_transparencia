{
 "cells": [
  {
   "cell_type": "code",
   "execution_count": 2,
   "metadata": {},
   "outputs": [
    {
     "name": "stderr",
     "output_type": "stream",
     "text": [
      "24/08/18 15:36:03 WARN JdbcUtils: Requested isolation level 1 is not supported; falling back to default isolation level 8\n"
     ]
    },
    {
     "name": "stdout",
     "output_type": "stream",
     "text": [
      "+---+--------------------+--------------------+-------+------------+----------------+-------------+\n",
      "| id|                NOME|               CARGO|SALARIO|TIPO_VINCULO|DATA_CONTRATACAO|DATA_DEMISSAO|\n",
      "+---+--------------------+--------------------+-------+------------+----------------+-------------+\n",
      "|  1|LARA ALMEIDA DE O...|            ADVOGADO| 1500.0|    Contrato|      2022-02-16|             |\n",
      "|  2|AGNALDO PINHEIRO ...| AG GESTAO ADMINISTR| 1412.0|     Efetivo|      2022-05-09|             |\n",
      "|  3|BARBARA KELLY FER...| AG GESTAO ADMINISTR| 1412.0|     Efetivo|      2022-05-09|             |\n",
      "|  4|ERLANE DIAS DA SILVA| AG GESTAO ADMINISTR| 1412.0|     Efetivo|      2022-05-09|             |\n",
      "|  5|LUCIANE FELIX DE ...| AG GESTAO ADMINISTR| 1412.0|     Efetivo|      2022-05-09|             |\n",
      "|  6|MARIA DOS ANJOS T...| AG GESTAO ADMINISTR| 1412.0|     Efetivo|      2022-05-09|             |\n",
      "|  7|NILMARA FREITAS S...| AG GESTAO ADMINISTR| 1412.0|     Efetivo|      2022-05-09|             |\n",
      "|  8|VITOR HUGO NEVES ...| AG GESTAO ADMINISTR| 1412.0|     Efetivo|      2012-02-01|             |\n",
      "|  9|AMANDIO ALVES DE ...| AG GESTAO ADMINISTR| 1412.0|     Efetivo|      2012-02-01|             |\n",
      "| 10|JEANE FERREIRA PR...| AG GESTAO ADMINISTR| 1412.0|     Efetivo|      2012-02-01|             |\n",
      "| 11|JULIANA BATISTA D...| AG GESTAO ADMINISTR| 1412.0|     Efetivo|      2012-02-01|             |\n",
      "| 12|NELSON DOS SANTOS...| AG GESTAO ADMINISTR| 1412.0|     Efetivo|      2012-02-01|             |\n",
      "| 13|ERICA APARECIDA G...|AGENTE COMUNITARI...| 2824.0|    Contrato|      2024-02-26|             |\n",
      "| 14|HENRIQUE MEIRA DU...|AGENTE COMUNITARI...| 2824.0|    Contrato|      2024-02-26|             |\n",
      "| 15|  ADSON SOUSA CASTRO|AGENTE COMUNITARI...| 2824.0|    Contrato|      2022-12-01|             |\n",
      "| 16|ALINE APARECIDA D...|AGENTE COMUNITARI...| 2824.0|    Contrato|      2023-03-06|             |\n",
      "| 17|    AMANDA DE AMORIM|AGENTE COMUNITARI...| 2824.0|    Contrato|      2022-05-01|             |\n",
      "| 18|AMANDA GONCALVES ...|AGENTE COMUNITARI...| 2824.0|    Contrato|      2023-04-10|             |\n",
      "| 19|ANA BEATRIZ PEREI...|AGENTE COMUNITARI...| 2824.0|    Contrato|      2021-08-18|             |\n",
      "| 20|ANA FLAVIA MARTIN...|AGENTE COMUNITARI...| 2824.0|    Contrato|      2021-09-01|             |\n",
      "+---+--------------------+--------------------+-------+------------+----------------+-------------+\n",
      "only showing top 20 rows\n",
      "\n"
     ]
    }
   ],
   "source": [
    "from pyspark.sql import SparkSession\n",
    "from pyspark.sql.functions import split, col, to_date, regexp_replace\n",
    "\n",
    "# Caminho para o banco de dados SQLite\n",
    "db_path = \"/home/sdna/Documents/python_portal_transparencia/portal.db\"\n",
    "jdbc_url = f\"jdbc:sqlite:{db_path}\"\n",
    "\n",
    "# Nome da tabela no banco de dados SQLite\n",
    "#precisei copiar o arquivo jar jdbc para a pasta spark\\jars \n",
    "\n",
    "# Inicialize a SparkSession\n",
    "spark = SparkSession.builder \\\n",
    "    .appName(\"PySpark com SQLite via JDBC\") \\\n",
    "    .config(\"spark.jars.packages\", \"org.xerial:sqlite-jdbc:3.41.2.1\") \\\n",
    "    .getOrCreate()\n",
    "\n",
    "# Leia os dados da tabela do SQLite usando JDBC\n",
    "try:\n",
    "    df = spark.read \\\n",
    "        .format(\"jdbc\") \\\n",
    "        .option(\"url\", jdbc_url) \\\n",
    "        .option(\"dbtable\", \"DT_PORTAL_BRONZE\") \\\n",
    "        .option(\"driver\", \"org.sqlite.JDBC\") \\\n",
    "        .load()\n",
    "    \n",
    "    #Transformacao variaveis\n",
    "    df = df.withColumn('SALARIO', regexp_replace('SALARIO', '\\.', '')) \\\n",
    "        .withColumn('SALARIO', regexp_replace('SALARIO', 'R\\$.', '')) \\\n",
    "            .withColumn('SALARIO', regexp_replace('SALARIO', ',', '\\.')) \n",
    " \n",
    "    df = df.withColumn(\"SALARIO\",df.SALARIO.cast('double')) \\\n",
    "        .withColumn(\"DATA_CONTRATACAO\", to_date(df[\"DATA_CONTRATACAO\"], \"dd/MM/yyyy\"))   \n",
    "\n",
    "    df.write \\\n",
    "        .format(\"jdbc\") \\\n",
    "        .option(\"url\", jdbc_url) \\\n",
    "        .option(\"dbtable\", \"DT_PORTAL_PRATA\") \\\n",
    "        .option(\"driver\", \"org.sqlite.JDBC\") \\\n",
    "        .mode(\"append\") \\\n",
    "        .save()        \n",
    "\n",
    "    # Mostre os dados lidos\n",
    "    df.show()\n",
    "except Exception as e:\n",
    "    print(\"Erro ao ler os dados com JDBC:\", e)\n",
    "finally:\n",
    "    # Feche a SparkSession\n",
    "    spark.stop()\n"
   ]
  },
  {
   "cell_type": "code",
   "execution_count": null,
   "metadata": {},
   "outputs": [],
   "source": []
  },
  {
   "cell_type": "code",
   "execution_count": null,
   "metadata": {},
   "outputs": [],
   "source": []
  },
  {
   "cell_type": "code",
   "execution_count": null,
   "metadata": {},
   "outputs": [],
   "source": []
  },
  {
   "cell_type": "code",
   "execution_count": null,
   "metadata": {},
   "outputs": [],
   "source": []
  }
 ],
 "metadata": {
  "kernelspec": {
   "display_name": "portal_tranparencia",
   "language": "python",
   "name": "python3"
  },
  "language_info": {
   "codemirror_mode": {
    "name": "ipython",
    "version": 3
   },
   "file_extension": ".py",
   "mimetype": "text/x-python",
   "name": "python",
   "nbconvert_exporter": "python",
   "pygments_lexer": "ipython3",
   "version": "3.10.14"
  }
 },
 "nbformat": 4,
 "nbformat_minor": 2
}
